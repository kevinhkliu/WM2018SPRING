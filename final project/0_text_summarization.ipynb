{
 "cells": [
  {
   "cell_type": "code",
   "execution_count": 1,
   "metadata": {},
   "outputs": [],
   "source": [
    "import json\n",
    "import numpy as np\n",
    "from __future__ import print_function\n",
    "import codecs\n",
    "from textrank4zh import TextRank4Keyword, TextRank4Sentence\n",
    "tr4w = TextRank4Keyword()\n",
    "tr4s = TextRank4Sentence()"
   ]
  },
  {
   "cell_type": "markdown",
   "metadata": {},
   "source": [
    "## Read Data"
   ]
  },
  {
   "cell_type": "code",
   "execution_count": 2,
   "metadata": {},
   "outputs": [],
   "source": [
    "with open('data/kp.json', encoding='utf-8') as f:\n",
    "    data_kp = json.load(f)\n",
    "with open('data/yao.json', encoding='utf-8') as f:\n",
    "    data_yao = json.load(f)"
   ]
  },
  {
   "cell_type": "code",
   "execution_count": 4,
   "metadata": {},
   "outputs": [
    {
     "name": "stdout",
     "output_type": "stream",
     "text": [
      "1545\n",
      "1027\n"
     ]
    }
   ],
   "source": [
    "print(len(data_kp['data']))\n",
    "print(len(data_yao['data']))"
   ]
  },
  {
   "cell_type": "markdown",
   "metadata": {},
   "source": [
    "## Posts and comments summarization"
   ]
  },
  {
   "cell_type": "code",
   "execution_count": 5,
   "metadata": {},
   "outputs": [],
   "source": [
    "def summarization(message, num_sum_sent):\n",
    "    if len(message.split('。')) or len(message.split(' '))> num_sum_sent:\n",
    "        sum_message = ''\n",
    "        tr4s.analyze(text=message, lower=True, source = 'all_filters')\n",
    "        for item in tr4s.get_key_sentences(num=num_sum_sent):\n",
    "            sum_message = sum_message + item.sentence + '。'\n",
    "    else:\n",
    "        sum_message = message\n",
    "    return sum_message"
   ]
  },
  {
   "cell_type": "code",
   "execution_count": 15,
   "metadata": {
    "scrolled": true
   },
   "outputs": [],
   "source": [
    "def processing(data):\n",
    "    sum_post_message_list = []\n",
    "    post_time_list = []\n",
    "    sum_comment_message_list = []\n",
    "    comment_time_list = []\n",
    "    comments_to_post_index = []\n",
    "    idx = 0\n",
    "    post_idx = 0\n",
    "    for post in data['data']:\n",
    "        print(str(idx) + '/' + str(len(data['data'])))\n",
    "        idx = idx + 1\n",
    "        if 'message' in post.keys():\n",
    "            #posts\n",
    "            post_message = post['message'].replace(\"\\n\", \"\")\n",
    "            post_time = post['created_time']\n",
    "            sum_post_message = summarization(post_message, num_sum_sent=10)\n",
    "            sum_post_message_list.append(sum_post_message)\n",
    "            post_time_list.append(post_time)\n",
    "\n",
    "            #comments\n",
    "            if 'comments' in post.keys():\n",
    "                comments_list = post['comments']\n",
    "                for comment in comments_list:\n",
    "                    comment_message = comment['message'].replace(\"\\n\", \"\")\n",
    "                    comment_time = comment['created_time']\n",
    "                    sum_comment_message = summarization(comment_message, num_sum_sent=3)\n",
    "                    sum_comment_message_list.append(sum_comment_message)\n",
    "                    comments_to_post_index.append(post_idx)\n",
    "                    comment_time_list.append(comment_time)\n",
    "            post_idx = post_idx + 1\n",
    "            \n",
    "    print('processing done')\n",
    "    return sum_post_message_list, post_time_list, sum_comment_message_list, comment_time_list, comments_to_post_index\n"
   ]
  },
  {
   "cell_type": "code",
   "execution_count": 16,
   "metadata": {
    "scrolled": true
   },
   "outputs": [
    {
     "name": "stdout",
     "output_type": "stream",
     "text": [
      "processing done\n",
      "processing done\n"
     ]
    }
   ],
   "source": [
    "kp_sum_posts, kp_posts_time, kp_sum_comments, kp_comments_time, kp_comments_to_post_index = processing(data_kp)\n",
    "yao_sum_posts, yao_posts_time, yao_sum_comments, yao_comments_time, yao_comments_to_post_index  = processing(data_yao)"
   ]
  },
  {
   "cell_type": "code",
   "execution_count": 22,
   "metadata": {},
   "outputs": [
    {
     "data": {
      "text/plain": [
       "['np/yao_all.pkl']"
      ]
     },
     "execution_count": 22,
     "metadata": {},
     "output_type": "execute_result"
    }
   ],
   "source": [
    "from sklearn.externals import joblib\n",
    "joblib.dump((kp_sum_posts,kp_posts_time, kp_sum_comments, kp_comments_time, kp_comments_to_post_index), \"result/kp_all.pkl\")\n",
    "joblib.dump((yao_sum_posts,yao_posts_time, yao_sum_comments, yao_comments_time, yao_comments_to_post_index), \"result/yao_all.pkl\")"
   ]
  }
 ],
 "metadata": {
  "kernelspec": {
   "display_name": "Python 3",
   "language": "python",
   "name": "python3"
  },
  "language_info": {
   "codemirror_mode": {
    "name": "ipython",
    "version": 3
   },
   "file_extension": ".py",
   "mimetype": "text/x-python",
   "name": "python",
   "nbconvert_exporter": "python",
   "pygments_lexer": "ipython3",
   "version": "3.6.4"
  }
 },
 "nbformat": 4,
 "nbformat_minor": 2
}
