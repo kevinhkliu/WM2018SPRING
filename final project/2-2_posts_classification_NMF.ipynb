{
 "cells": [
  {
   "cell_type": "markdown",
   "metadata": {},
   "source": [
    "## Read Data"
   ]
  },
  {
   "cell_type": "code",
   "execution_count": 4,
   "metadata": {},
   "outputs": [],
   "source": [
    "from sklearn.externals import joblib\n",
    "(tf_kp_posts,tf_kp_posts_feature_names, kp_sum_posts_clean_seg, tf_kp_comments,tf_kp_comments_feature_names, kp_sum_comments_clean_seg) = joblib.load( \"result/tf_idf_kp_all.pkl\" )\n",
    "(tf_yao_posts,tf_yao_posts_feature_names, yao_sum_posts_clean_seg, tf_yao_comments,tf_yao_comments_feature_names, yao_sum_comments_clean_seg) = joblib.load( \"result/tf_idf_yao_all.pkl\" )"
   ]
  },
  {
   "cell_type": "markdown",
   "metadata": {},
   "source": [
    "## SVD-based initialisation"
   ]
  },
  {
   "cell_type": "code",
   "execution_count": 5,
   "metadata": {},
   "outputs": [],
   "source": [
    "k = 20\n",
    "from sklearn import decomposition\n",
    "model = decomposition.NMF( init=\"nndsvd\", n_components=k ) \n",
    "# apply the model and extract the two factor matrices\n",
    "kp_W = model.fit_transform(tf_kp_posts)\n",
    "kp_H = model.components_\n",
    "\n",
    "yao_W = model.fit_transform(tf_yao_posts)\n",
    "yao_H = model.components_"
   ]
  },
  {
   "cell_type": "markdown",
   "metadata": {},
   "source": [
    "## Topic Descriptors"
   ]
  },
  {
   "cell_type": "code",
   "execution_count": 7,
   "metadata": {},
   "outputs": [],
   "source": [
    "import numpy as np\n",
    "def get_descriptor( tf_feature_names, H, topic_index, top ):\n",
    "    # reverse sort the values to sort the indices\n",
    "    top_indices = np.argsort( H[topic_index,:] )[::-1]\n",
    "    # now get the terms corresponding to the top-ranked indices\n",
    "    top_terms = []\n",
    "    for term_index in top_indices[0:top]:\n",
    "        top_terms.append( tf_feature_names[term_index] )\n",
    "    return top_terms"
   ]
  },
  {
   "cell_type": "code",
   "execution_count": 9,
   "metadata": {},
   "outputs": [
    {
     "name": "stdout",
     "output_type": "stream",
     "text": [
      "Topic 01: 城市, 臺北, 一個, 臺灣, 臺北市, 價值, 光榮, 文化, 進步, 成為, 發展, 自行車, 市民, 智慧, 友善, 永續, 多元, 動物, 國際, 政府\n",
      "Topic 02: 世大運, 比賽, 回家, 臺灣, 選手, 世界, 這次, 加油, 臺北, 倒數, 賽事, 場館, 一起, 運動, 看見, 志工, 開幕, 主場, 國際, 感謝\n",
      "Topic 03: 公民, 顧問, 顧問團, 希望, 咖啡館, 發聲, 討論, 台北市, 友愛, 柯p, 一個, 開講, 未來, 挑戰, 參與, 廣場, 選民, 所有, 歡迎, 障礙\n",
      "Topic 04: 設計, 台北, 公園, 泰國, 藝術, 展覽, 世界, 文創, 創意, 遊具, 文化, 產業, 共融, 白晝, 遊戲場, 改變, 城市, 熊讚, 設計師, 台北市\n",
      "Topic 05: 醫院, 醫療, 台大, 醫師, 病人, 聯合, 病房, 工作, 病患, 器官, 體系, 團隊, 市立, 外科, 轉診, 醫學, 加護, 醫生, 葉克膜, 捐贈\n",
      "Topic 06: 防災, 颱風, 臺北市, 資訊, 市民, 演習, 政府, 災害, 朋友, 停止, 中央, 台北市, 安全, 民眾, 上班, 中心, 上課, 應變, 用水, 地震\n",
      "Topic 07: 新政, 柯p, 捐款, 柯語錄, 支持, 柯文哲, 逐字, 辯論, 智慧, 打敗, 創造, 號碼, 交換, 一定, 速度, 遠大, 申論, 答案, 不一定, 團結\n",
      "Topic 08: 選舉, 改變, 政治, 柯文哲, 相信, 一場, 文化, 市民, 支持, 朋友, 攻擊, 首都, 負面, 台北市長, 民調, 堅持, 人物, 在野, 大聯盟, 廣告\n",
      "Topic 09: 台北, 專輯, 片花, 一分鐘, 限量, 募款, 獲贈, 專案, 一張, 即可, 線上, 捐款, 入場, 簽唱會, 柯p, 音樂, 乙張, 樂團, 天晴, 香港\n",
      "Topic 10: 公車, 幹線, 捷運, 交通, 運輸, 路線, 路網, 吃到飽, 定期票, 公共, 調整, 綠色, 八橫八縱, 內湖, 搭乘, 大眾, 班次, 增加, 上路, 改善\n",
      "Topic 11: 市場, 改建, 傳統, 環南, 東門, 美食, 攤商, 開工, 果菜, 生活, 縮影, 城市, 大龍, 老舊, 好壞, 廁所, 批發, 職人, 改建案, 工程\n",
      "Topic 12: 計畫, 市政, 會議, 報告, 行動, 南港, 門戶, 東區, 直播, 改變, 簡報, 建設, 開會, 施政, 早安, 一起, 產業, 區政, 南港區, 公宅\n",
      "Topic 13: 燈節, 台北, 北門, 幸福, 旅遊網, 中華路, 中山堂, 時間, 西門町, 展演, 分鐘, 小奇, 西城, 西區, 一場, 閃亮, 一次, 遊行, 全區, 年輕人\n",
      "Topic 14: 住宅, 公共, 公宅, 政策, 居住, 首爾, 租金, 社區, 智慧, 補貼, 房子, 台北市, 正義, 不賣, 申請, 萬戶, 聯開宅, 推動, 青年, 政府\n",
      "Topic 15: 參與, 政府, 開放, 報名, 全民, 市民, 預算, 公開, 委員會, 市府, 透明, 遴選, 網路, 廉政, 理念, 政治, 投票, 參與式, 資料, 團隊\n",
      "Topic 16: 教育, 孩子, 老師, 學生, 學校, 實驗, 學習, 平等, 國小, 田園, 家長, 機會, 課程, 高中, 小朋友, 教育局, 酷課, 校長, 台北市, 創新\n",
      "Topic 17: 廣場, 總部, 競選, 柯文哲, 音樂會, 地點, 時間, 嘉年華, 訊息, 市民, 明天, 一起, 遊行, 顏色, 擁抱, 活動, 當天, 集合, 裝扮, 隊伍\n",
      "Topic 18: 老人, 社區, 服務, 照顧, 長者, 共餐, 居家, 照護, 福利, 健康, 據點, 社會, 長輩, 疫苗, 敬老卡, 長照, 活得, 石頭湯, 台北市, 重陽\n",
      "Topic 19: 台灣, 民主, 社會, 自由, 歷史, 未來, 一個, 國家, 年輕人, 二二八, 先生, 這一, 事件, 力量, 父親, 電影, 日本, 世界, 台北, 共同\n",
      "Topic 20: 問題, 解決, 大巨蛋, 安全, 面對, 社子島, 公安, 遠雄, 處理, 一個, 市府, 食安, 改善, 政府, 北市府, 第一步, 已經, 提出, 內湖, 堅持\n"
     ]
    }
   ],
   "source": [
    "print('-------------kp posts topic top words----------------')\n",
    "descriptors = []\n",
    "for topic_index in range(k):\n",
    "    descriptors.append( get_descriptor( tf_kp_posts_feature_names, kp_H, topic_index, 20 ) )\n",
    "    str_descriptor = \", \".join( descriptors[topic_index] )\n",
    "    print(\"Topic %02d: %s\" % ( topic_index+1, str_descriptor ) )"
   ]
  },
  {
   "cell_type": "code",
   "execution_count": 10,
   "metadata": {},
   "outputs": [
    {
     "name": "stdout",
     "output_type": "stream",
     "text": [
      "-------------yao posts topic top words----------------\n",
      "Topic 01: 姚文智, 台北, 市政, 翻轉, 政見, 城區, 西區, 廢除, 藍圖, 公辦, 分享, 市長, 河港, 空港, 快樂, 市民, 字幕版, 素長, 加入, 松山\n",
      "Topic 02: 機場, 松山, 桃園, 松機, 跑道, 廢除, 遷移, 桃機, 發展, 航廈, 離島, 捷運, 第三, 空域, 起降, 居民, 問題, 公頃, 完工, 運量\n",
      "Topic 03: 城市, 台北, 論壇, 張基義, 美學, 國際, 錄影, 未來, 月場, 邀請到, 開放, 生活, 建設, 完整, 內容, 討論, 大學, 週六, 沙龍, 創新\n",
      "Topic 04: 都市, 條例, 再生, 更新, 公辦, 特別, 政府, 老舊, 推動, 建築物, 加速, 重建, 修法, 中心, 改造, 產值, 危險, 草案, 發展, 完成\n",
      "Topic 05: 台灣, 價值, 首都, 國家, 民主, 民進黨, 朋友, 東京, 自由, 夢想, 言論, 守護, 相信, 中國, 演講, 一起, 日本, 一個, 今天, 年輕\n",
      "Topic 06: 蔡英文, 小英, 總部, 競選, 姚文智, 成立, 過半, 大會, 國會, 聯合, 承德路, 點亮, 最後, 下午, 邀請, 到場, 地點, 時間, 星期日, 縣長\n",
      "Topic 07: 公園, 中央, 活動, 創意, 公頃, 台北, 紐約, 松機, 想像, 河濱, 官網, 一座, 報名, 改變, 綠地, 城市, 未來, 擁有, 截止, 這一\n",
      "Topic 08: 論壇, 報名, 右岸, 唐鳳, 矽谷, 亞洲, 徐子涵, 網址, 數位, 直播, 翟本喬, 科技, 第五屆, 創新, 活動, 名額, 有限, 參與, 歡迎, 台北\n",
      "Topic 09: 故宮, 漫畫, 國寶, 鍾孟舜, 紀念堂, 中正, 計畫, 鄭問, 雙溪, 銅像, 轉型, 藝術, 鄭植羽, 院長, 展出, 漫畫家, 工會, 正義, 蔣介石, 反對\n",
      "Topic 10: 鎖定, 民視, 下午, 辯論會, 直播, 台北市長, 三立, 收看, 好友, 新聞, 一起, 新聞台, 歡迎, 投票, 選舉, 黨派, 姚文智, 青年, 明天, 接受\n",
      "Topic 11: 食安, 食品, 安全, 食農, 飲食, 教育法, 環境, 食物, 建構, 健康, 提出, 教育, 回收法, 三法, 管理法, 出發, 姚文智, 安心, 管理, 蔡英文\n",
      "Topic 12: 文化, 古蹟, 菊元, 百貨, 俞大維, 資產, 保存, 文資, 建築, 故居, 歷史, 市定, 北市府, 審議, 保留, 指定, 大稻埕, 文化局, 柯市府, 溫州街\n",
      "Topic 13: 內湖, 交通, 創意, 競賽, 問題, 朋友, 狀況, 解開, 公車, 解決, 通勤, 柯市長, 紓解, 軟體, 離島, 更多, 產業, 基隆, 分流, 運輸\n",
      "Topic 14: 城市, 改造, 台北, 地殼, 演講會, 運動, 經營, 大會堂, 願景, 需要, 翻轉, 世貿, 會議, 變好, 國際, 中心, 誠摯, 三點, 能否, 脫胎換骨\n",
      "Topic 15: 美麗島, 高雄, 捷運站, 事件, 世界, 菊姐, 車站, 當時, 市長, 周年, 歷史, 謝長廷, 藝術, 票選, 團隊, 紀念, 設計, 記憶, 愛河, 勇奪\n",
      "Topic 16: 紙風車, 國小, 劇團, 小朋友, 演出, 地點, 武松, 晚上, 星期日, 百齡, 活動, 表演, 時間, 一起, 社子, 好玩, 卡車, 同歡, 好友, 客家\n",
      "Topic 17: 民調, 支持, 電話, 唯一, 台北市長, 民進黨, 姚文智, 階段, 好友, 提名, 爭取, 第一, 參選, 候選人, 市長, 顧立雄, 政見, 市政, 感謝, 人選\n",
      "Topic 18: 史明, 革命, 進行式, 紀錄片, 上映, 陳麗貴, 威秀, 戲院, 台獨, 招來, 台灣, 一生, 歐吉桑, 英雄, 導演, 信義, 偶像劇, 這部, 夢時代, 電影\n",
      "Topic 19: 遊行, 一起, 大巨蛋, 民權, 集合, 出發, 下午, 站出來, 遠雄, 震動, 民用, 腳步, 一天, 本週, 台北市, 機蛋, 市長, 公園, 翻轉, 土地\n",
      "Topic 20: 住宅, 社會, 政策, 推動, 政府, 公辦, 問題, 住宅法, 青年, 弱勢, 公共, 萬戶, 居住, 市場, 進行, 提出, 租屋, 委員會, 租賃, 正義\n"
     ]
    }
   ],
   "source": [
    "print('-------------yao posts topic top words----------------')\n",
    "descriptors = []\n",
    "for topic_index in range(k):\n",
    "    descriptors.append( get_descriptor( tf_yao_posts_feature_names, yao_H, topic_index, 20 ) )\n",
    "    str_descriptor = \", \".join( descriptors[topic_index] )\n",
    "    print(\"Topic %02d: %s\" % ( topic_index+1, str_descriptor ) )"
   ]
  },
  {
   "cell_type": "markdown",
   "metadata": {},
   "source": [
    "## 　Parameter Selection for NMF"
   ]
  },
  {
   "cell_type": "code",
   "execution_count": 11,
   "metadata": {
    "scrolled": true
   },
   "outputs": [
    {
     "name": "stdout",
     "output_type": "stream",
     "text": [
      "Applying NMF for k=4 ...\n",
      "Applying NMF for k=5 ...\n",
      "Applying NMF for k=6 ...\n",
      "Applying NMF for k=7 ...\n",
      "Applying NMF for k=8 ...\n",
      "Applying NMF for k=9 ...\n",
      "Applying NMF for k=10 ...\n",
      "Applying NMF for k=11 ...\n",
      "Applying NMF for k=12 ...\n",
      "Applying NMF for k=13 ...\n",
      "Applying NMF for k=14 ...\n",
      "Applying NMF for k=15 ...\n",
      "Applying NMF for k=16 ...\n",
      "Applying NMF for k=17 ...\n",
      "Applying NMF for k=18 ...\n",
      "Applying NMF for k=19 ...\n",
      "Applying NMF for k=20 ...\n",
      "Applying NMF for k=21 ...\n",
      "Applying NMF for k=22 ...\n",
      "Applying NMF for k=23 ...\n",
      "Applying NMF for k=24 ...\n",
      "Applying NMF for k=25 ...\n"
     ]
    }
   ],
   "source": [
    "kmin, kmax = 4, 25\n",
    "from sklearn import decomposition\n",
    "kp_topic_models = []\n",
    "# try each value of k\n",
    "for k in range(kmin,kmax+1):\n",
    "    print(\"Applying NMF for k=%d ...\" % k )\n",
    "    # run NMF\n",
    "    model = decomposition.NMF( init=\"nndsvd\", n_components=k ) \n",
    "    kp_W = model.fit_transform( tf_kp_posts )\n",
    "    kp_H = model.components_    \n",
    "    # store for later\n",
    "    kp_topic_models.append( (k,kp_W,kp_H) )"
   ]
  },
  {
   "cell_type": "code",
   "execution_count": 12,
   "metadata": {},
   "outputs": [
    {
     "name": "stdout",
     "output_type": "stream",
     "text": [
      "Applying NMF for k=4 ...\n",
      "Applying NMF for k=5 ...\n",
      "Applying NMF for k=6 ...\n",
      "Applying NMF for k=7 ...\n",
      "Applying NMF for k=8 ...\n",
      "Applying NMF for k=9 ...\n",
      "Applying NMF for k=10 ...\n",
      "Applying NMF for k=11 ...\n",
      "Applying NMF for k=12 ...\n",
      "Applying NMF for k=13 ...\n",
      "Applying NMF for k=14 ...\n",
      "Applying NMF for k=15 ...\n",
      "Applying NMF for k=16 ...\n",
      "Applying NMF for k=17 ...\n",
      "Applying NMF for k=18 ...\n",
      "Applying NMF for k=19 ...\n",
      "Applying NMF for k=20 ...\n",
      "Applying NMF for k=21 ...\n",
      "Applying NMF for k=22 ...\n",
      "Applying NMF for k=23 ...\n",
      "Applying NMF for k=24 ...\n",
      "Applying NMF for k=25 ...\n"
     ]
    }
   ],
   "source": [
    "kmin, kmax = 4, 25\n",
    "from sklearn import decomposition\n",
    "yao_topic_models = []\n",
    "# try each value of k\n",
    "for k in range(kmin,kmax+1):\n",
    "    print(\"Applying NMF for k=%d ...\" % k )\n",
    "    # run NMF\n",
    "    model = decomposition.NMF( init=\"nndsvd\", n_components=k ) \n",
    "    yao_W = model.fit_transform( tf_yao_posts )\n",
    "    yao_H = model.components_    \n",
    "    # store for later\n",
    "    yao_topic_models.append( (k,yao_W,yao_H) )"
   ]
  },
  {
   "cell_type": "markdown",
   "metadata": {},
   "source": [
    "## Load pre-trained Word Embedding\n"
   ]
  },
  {
   "cell_type": "code",
   "execution_count": 15,
   "metadata": {},
   "outputs": [
    {
     "name": "stderr",
     "output_type": "stream",
     "text": [
      "D:\\Application\\Anaconda3\\lib\\site-packages\\gensim\\utils.py:1197: UserWarning: detected Windows; aliasing chunkize to chunkize_serial\n",
      "  warnings.warn(\"detected Windows; aliasing chunkize to chunkize_serial\")\n"
     ]
    }
   ],
   "source": [
    "import gensim\n",
    "w2vModel = gensim.models.KeyedVectors.load_word2vec_format('word2vector/wiki.zh.vec')"
   ]
  },
  {
   "cell_type": "code",
   "execution_count": 16,
   "metadata": {},
   "outputs": [
    {
     "name": "stdout",
     "output_type": "stream",
     "text": [
      "Model has 332647 terms\n"
     ]
    },
    {
     "name": "stderr",
     "output_type": "stream",
     "text": [
      "D:\\Application\\Anaconda3\\lib\\site-packages\\ipykernel_launcher.py:1: DeprecationWarning: Call to deprecated `wv` (Attribute will be removed in 4.0.0, use self instead).\n",
      "  \"\"\"Entry point for launching an IPython kernel.\n"
     ]
    }
   ],
   "source": [
    "print( \"Model has %d terms\" % len(w2vModel.wv.vocab) )"
   ]
  },
  {
   "cell_type": "markdown",
   "metadata": {},
   "source": [
    "## Selecting the Number of Topics\n"
   ]
  },
  {
   "cell_type": "code",
   "execution_count": 17,
   "metadata": {},
   "outputs": [],
   "source": [
    "def calculate_coherence( w2vModel, term_rankings ):\n",
    "    overall_coherence = 0.0\n",
    "    for topic_index in range(len(term_rankings)):\n",
    "        # check each pair of terms\n",
    "        pair_scores = []\n",
    "        for pair in combinations( term_rankings[topic_index], 2 ):\n",
    "            if pair[0] in w2vModel and pair[1] in w2vModel:\n",
    "                pair_scores.append( w2vModel.similarity(pair[0], pair[1]) )\n",
    "        # get the mean for all pairs in this topic\n",
    "        topic_score = sum(pair_scores) / len(pair_scores)\n",
    "        overall_coherence += topic_score\n",
    "    # get the mean score across all topics\n",
    "    return overall_coherence / len(term_rankings)"
   ]
  },
  {
   "cell_type": "code",
   "execution_count": 19,
   "metadata": {},
   "outputs": [
    {
     "name": "stdout",
     "output_type": "stream",
     "text": [
      "K=04: Coherence=0.8878\n",
      "K=05: Coherence=0.8937\n",
      "K=06: Coherence=0.8862\n",
      "K=07: Coherence=0.8880\n",
      "K=08: Coherence=0.8911\n",
      "K=09: Coherence=0.8905\n",
      "K=10: Coherence=0.8912\n",
      "K=11: Coherence=0.8913\n",
      "K=12: Coherence=0.8905\n",
      "K=13: Coherence=0.8922\n",
      "K=14: Coherence=0.8927\n",
      "K=15: Coherence=0.8921\n",
      "K=16: Coherence=0.8957\n",
      "K=17: Coherence=0.8932\n",
      "K=18: Coherence=0.8934\n",
      "K=19: Coherence=0.8943\n",
      "K=20: Coherence=0.8931\n",
      "K=21: Coherence=0.8921\n",
      "K=22: Coherence=0.8918\n",
      "K=23: Coherence=0.8953\n",
      "K=24: Coherence=0.8929\n",
      "K=25: Coherence=0.8921\n"
     ]
    }
   ],
   "source": [
    "from itertools import combinations\n",
    "kp_k_values = []\n",
    "kp_coherences = []\n",
    "for (k,kp_W,kp_H) in kp_topic_models:\n",
    "    # Get all of the topic descriptors - the term_rankings, based on top 10 terms\n",
    "    term_rankings = []\n",
    "    for topic_index in range(k):\n",
    "        term_rankings.append( get_descriptor( tf_kp_posts_feature_names, kp_H, topic_index, 10 ) )\n",
    "    # Now calculate the coherence based on our Word2vec model\n",
    "    kp_k_values.append( k )\n",
    "    kp_coherences.append( calculate_coherence( w2vModel, term_rankings ) )\n",
    "    print(\"K=%02d: Coherence=%.4f\" % ( k, kp_coherences[-1] ) )"
   ]
  },
  {
   "cell_type": "code",
   "execution_count": 20,
   "metadata": {},
   "outputs": [
    {
     "name": "stdout",
     "output_type": "stream",
     "text": [
      "K=04: Coherence=0.8882\n",
      "K=05: Coherence=0.8881\n",
      "K=06: Coherence=0.8882\n",
      "K=07: Coherence=0.8888\n",
      "K=08: Coherence=0.8910\n",
      "K=09: Coherence=0.8896\n",
      "K=10: Coherence=0.8890\n",
      "K=11: Coherence=0.8885\n",
      "K=12: Coherence=0.8919\n",
      "K=13: Coherence=0.8907\n",
      "K=14: Coherence=0.8879\n",
      "K=15: Coherence=0.8847\n",
      "K=16: Coherence=0.8844\n",
      "K=17: Coherence=0.8827\n",
      "K=18: Coherence=0.8847\n",
      "K=19: Coherence=0.8843\n",
      "K=20: Coherence=0.8837\n",
      "K=21: Coherence=0.8856\n",
      "K=22: Coherence=0.8863\n",
      "K=23: Coherence=0.8855\n",
      "K=24: Coherence=0.8852\n",
      "K=25: Coherence=0.8840\n"
     ]
    }
   ],
   "source": [
    "from itertools import combinations\n",
    "yao_k_values = []\n",
    "yao_coherences = []\n",
    "for (k,yao_W,yao_H) in yao_topic_models:\n",
    "    # Get all of the topic descriptors - the term_rankings, based on top 10 terms\n",
    "    term_rankings = []\n",
    "    for topic_index in range(k):\n",
    "        term_rankings.append( get_descriptor( tf_yao_posts_feature_names, yao_H, topic_index, 10 ) )\n",
    "    # Now calculate the coherence based on our Word2vec model\n",
    "    yao_k_values.append( k )\n",
    "    yao_coherences.append( calculate_coherence( w2vModel, term_rankings ) )\n",
    "    print(\"K=%02d: Coherence=%.4f\" % ( k, yao_coherences[-1] ) )"
   ]
  },
  {
   "cell_type": "code",
   "execution_count": 22,
   "metadata": {},
   "outputs": [],
   "source": [
    "%matplotlib inline\n",
    "import matplotlib\n",
    "import matplotlib.pyplot as plt\n",
    "plt.style.use(\"ggplot\")\n",
    "matplotlib.rcParams.update({\"font.size\": 14})"
   ]
  },
  {
   "cell_type": "code",
   "execution_count": 25,
   "metadata": {},
   "outputs": [
    {
     "data": {
      "image/png": "[encoded data removed]",
      "text/plain": [
       "<matplotlib.figure.Figure at 0x19f3efa1748>"
      ]
     },
     "metadata": {},
     "output_type": "display_data"
    }
   ],
   "source": [
    "fig = plt.figure(figsize=(13,7))\n",
    "# create the line plot\n",
    "ax = plt.plot( kp_k_values, kp_coherences )\n",
    "plt.xticks(kp_k_values)\n",
    "plt.xlabel(\"Number of Topics\")\n",
    "plt.ylabel(\"Mean Coherence\")\n",
    "# add the points\n",
    "plt.scatter( kp_k_values, kp_coherences, s=120)\n",
    "# find and annotate the maximum point on the plot\n",
    "ymax = max(kp_coherences)\n",
    "xpos = kp_coherences.index(ymax)\n",
    "kp_best_k = kp_k_values[xpos]\n",
    "plt.annotate( \"k=%d\" % kp_best_k, xy=(kp_best_k, ymax), xytext=(kp_best_k, ymax), textcoords=\"offset points\", fontsize=16)\n",
    "# show the plot\n",
    "plt.show()"
   ]
  },
  {
   "cell_type": "code",
   "execution_count": 26,
   "metadata": {},
   "outputs": [
    {
     "data": {
      "image/png": "[encoded data removed]",
      "text/plain": [
       "<matplotlib.figure.Figure at 0x19f3f018ba8>"
      ]
     },
     "metadata": {},
     "output_type": "display_data"
    }
   ],
   "source": [
    "fig = plt.figure(figsize=(13,7))\n",
    "# create the line plot\n",
    "ax = plt.plot( yao_k_values, yao_coherences )\n",
    "plt.xticks(yao_k_values)\n",
    "plt.xlabel(\"Number of Topics\")\n",
    "plt.ylabel(\"Mean Coherence\")\n",
    "# add the points\n",
    "plt.scatter( yao_k_values, yao_coherences, s=120)\n",
    "# find and annotate the maximum point on the plot\n",
    "ymax = max(yao_coherences)\n",
    "xpos = yao_coherences.index(ymax)\n",
    "yao_best_k = yao_k_values[xpos]\n",
    "plt.annotate( \"k=%d\" % yao_best_k, xy=(yao_best_k, ymax), xytext=(yao_best_k, ymax), textcoords=\"offset points\", fontsize=16)\n",
    "# show the plot\n",
    "plt.show()"
   ]
  },
  {
   "cell_type": "markdown",
   "metadata": {},
   "source": [
    "## Examine the Final Model"
   ]
  },
  {
   "cell_type": "code",
   "execution_count": 33,
   "metadata": {},
   "outputs": [
    {
     "name": "stdout",
     "output_type": "stream",
     "text": [
      "Topic 01: 公民, 參與, 顧問, 報名, 開放, 全民, 市民, 政府, 委員會, 顧問團, 台北市, 咖啡館, 預算, 希望, 公開, 廣場, 討論, 網路, 歡迎, 透明\n",
      "Topic 02: 世大運, 比賽, 臺灣, 回家, 選手, 世界, 這次, 加油, 臺北, 一起, 倒數, 賽事, 台灣, 場館, 運動, 看見, 志工, 開幕, 國際, 主場\n",
      "Topic 03: 台北, 專輯, 片花, 一分鐘, 限量, 募款, 獲贈, 專案, 即可, 一張, 線上, 捐款, 入場, 簽唱會, 音樂, 樂團, 乙張, 柯p, 香港, 天晴\n",
      "Topic 04: 城市, 臺北, 設計, 文化, 臺灣, 一個, 發展, 成為, 世界, 產業, 價值, 藝術, 台北, 光榮, 國際, 公園, 多元, 進步, 臺北市, 創意\n",
      "Topic 05: 教育, 孩子, 老師, 學生, 學校, 實驗, 學習, 國小, 平等, 機會, 動物, 田園, 家長, 課程, 小朋友, 台北市, 高中, 應該, 教育局, 酷課\n",
      "Topic 06: 防災, 颱風, 臺北市, 市民, 政府, 資訊, 演習, 災害, 朋友, 停止, 台北市, 安全, 民眾, 中央, 上班, 中心, 相關, 上課, 應變, 市府\n",
      "Topic 07: 新政, 柯p, 捐款, 柯語錄, 支持, 柯文哲, 逐字, 智慧, 辯論, 創造, 一定, 打敗, 號碼, 交換, 速度, 遠大, 申論, 答案, 不一定, 團結\n",
      "Topic 08: 台灣, 改變, 選舉, 政治, 柯文哲, 文化, 相信, 市民, 社會, 民主, 一個, 台北, 一場, 歷史, 自由, 首都, 擁抱, 朋友, 支持, 運動\n",
      "Topic 09: 問題, 解決, 大巨蛋, 安全, 面對, 社子島, 一個, 市府, 政府, 公安, 遠雄, 處理, 食安, 北市府, 提出, 改善, 已經, 堅持, 第一步, 過去\n",
      "Topic 10: 公車, 幹線, 捷運, 交通, 運輸, 路線, 路網, 吃到飽, 定期票, 公共, 綠色, 調整, 內湖, 八橫八縱, 改善, 搭乘, 大眾, 增加, 班次, 上路\n",
      "Topic 11: 市場, 改建, 傳統, 環南, 東門, 美食, 攤商, 開工, 城市, 果菜, 生活, 縮影, 大龍, 老舊, 好壞, 廁所, 批發, 改建案, 職人, 工程\n",
      "Topic 12: 燈節, 台北, 北門, 幸福, 時間, 旅遊網, 中華路, 中山堂, 展演, 西門町, 分鐘, 小奇, 西城, 遊行, 一起, 西區, 一場, 廣場, 地點, 一次\n",
      "Topic 13: 老人, 服務, 社區, 照顧, 長者, 共餐, 居家, 照護, 福利, 健康, 據點, 社會, 長輩, 疫苗, 長照, 敬老卡, 台北市, 活得, 石頭湯, 重陽\n",
      "Topic 14: 住宅, 公共, 政策, 公宅, 居住, 首爾, 租金, 智慧, 社區, 補貼, 房子, 政府, 台北市, 正義, 城市, 不賣, 申請, 青年, 推動, 萬戶\n",
      "Topic 15: 計畫, 市政, 報告, 會議, 行動, 南港, 改變, 門戶, 東區, 直播, 簡報, 施政, 建設, 開會, 市府, 一起, 早安, 市議會, 區政, 文山區\n",
      "Topic 16: 醫院, 醫療, 台大, 醫師, 病人, 聯合, 病房, 工作, 病患, 器官, 體系, 團隊, 市立, 外科, 醫學, 轉診, 醫生, 加護, 葉克膜, 捐贈\n"
     ]
    }
   ],
   "source": [
    "kp_k = kp_best_k\n",
    "# get the model that we generated earlier.\n",
    "kp_W = kp_topic_models[kp_k-kmin][1]\n",
    "kp_H = kp_topic_models[kp_k-kmin][2]\n",
    "for topic_index in range(kp_k):\n",
    "    descriptor = get_descriptor( tf_kp_posts_feature_names, kp_H, topic_index, 20 )\n",
    "    str_descriptor = \", \".join( descriptor )\n",
    "    print(\"Topic %02d: %s\" % ( topic_index+1, str_descriptor ) )"
   ]
  },
  {
   "cell_type": "code",
   "execution_count": 35,
   "metadata": {},
   "outputs": [
    {
     "name": "stdout",
     "output_type": "stream",
     "text": [
      "Topic 01: 民調, 支持, 電話, 台北市長, 唯一, 民進黨, 姚文智, 階段, 好友, 提名, 市長, 爭取, 參選, 候選人, 第一, 政見, 市政, 顧立雄, 人選, 感謝\n",
      "Topic 02: 機場, 松山, 桃園, 廢除, 松機, 跑道, 遷移, 桃機, 發展, 航廈, 離島, 捷運, 第三, 問題, 空域, 公頃, 台北, 起降, 居民, 完工\n",
      "Topic 03: 城市, 台北, 論壇, 國際, 未來, 改造, 願景, 翻轉, 張基義, 邀請, 發展, 美學, 創新, 錄影, 矽谷, 開放, 月場, 邀請到, 需要, 地殼\n",
      "Topic 04: 都市, 條例, 再生, 住宅, 更新, 公辦, 推動, 政府, 老舊, 特別, 社會, 加速, 建築物, 公共, 修法, 改造, 重建, 萬戶, 提出, 發展\n",
      "Topic 05: 台灣, 價值, 遊行, 首都, 一起, 民主, 國家, 史明, 朋友, 市長, 夢想, 站出來, 民進黨, 守護, 今天, 自由, 相信, 東京, 進行式, 一個\n",
      "Topic 06: 蔡英文, 小英, 總部, 競選, 姚文智, 成立, 過半, 大會, 國會, 聯合, 承德路, 點亮, 下午, 最後, 地點, 邀請, 時間, 到場, 星期日, 一起\n",
      "Topic 07: 公園, 中央, 活動, 創意, 台北, 公頃, 松機, 紐約, 想像, 報名, 官網, 河濱, 改變, 一座, 綠地, 未來, 城市, 截止, 這一, 擁有\n",
      "Topic 08: 內湖, 交通, 創意, 報名, 問題, 競賽, 朋友, 活動, 狀況, 論壇, 右岸, 解決, 解開, 柯市長, 通勤, 公車, 智慧, 紓解, 提供, 更多\n",
      "Topic 09: 故宮, 漫畫, 國寶, 鍾孟舜, 紀念堂, 中正, 計畫, 藝術, 鄭問, 轉型, 雙溪, 銅像, 鄭植羽, 正義, 院長, 展出, 漫畫家, 工會, 蔣介石, 反對\n",
      "Topic 10: 姚文智, 台北, 市政, 鎖定, 翻轉, 一起, 民視, 分享, 下午, 政見, 辯論會, 加入, 城區, 市長, 西區, 藍圖, 廢除, 快樂, 公辦, 好友\n",
      "Topic 11: 食安, 食品, 安全, 食農, 飲食, 教育法, 環境, 食物, 建構, 提出, 健康, 教育, 回收法, 三法, 姚文智, 出發, 管理法, 安心, 管理, 蔡英文\n",
      "Topic 12: 文化, 古蹟, 菊元, 百貨, 資產, 俞大維, 保存, 文資, 建築, 歷史, 故居, 市定, 北市府, 保留, 審議, 大稻埕, 指定, 紀念, 文化局, 柯市府\n"
     ]
    }
   ],
   "source": [
    "yao_k = yao_best_k\n",
    "# get the model that we generated earlier.\n",
    "yao_W = yao_topic_models[yao_k-kmin][1]\n",
    "yao_H = yao_topic_models[yao_k-kmin][2]\n",
    "for topic_index in range(yao_k):\n",
    "    descriptor = get_descriptor( tf_yao_posts_feature_names, yao_H, topic_index, 20 )\n",
    "    str_descriptor = \", \".join( descriptor )\n",
    "    print(\"Topic %02d: %s\" % ( topic_index+1, str_descriptor ) )"
   ]
  },
  {
   "cell_type": "markdown",
   "metadata": {},
   "source": [
    "## Exporting the Results"
   ]
  },
  {
   "cell_type": "code",
   "execution_count": 38,
   "metadata": {},
   "outputs": [
    {
     "data": {
      "text/plain": [
       "['result/kp_nmf.pk']"
      ]
     },
     "execution_count": 38,
     "metadata": {},
     "output_type": "execute_result"
    }
   ],
   "source": [
    "joblib.dump((kp_W,kp_H,kp_k), \"result/kp_nmf.pk\")"
   ]
  },
  {
   "cell_type": "code",
   "execution_count": 39,
   "metadata": {},
   "outputs": [
    {
     "data": {
      "text/plain": [
       "['result/kp_nmf.pk']"
      ]
     },
     "execution_count": 39,
     "metadata": {},
     "output_type": "execute_result"
    }
   ],
   "source": [
    "joblib.dump((yao_W,yao_H,yao_k), \"result/kp_nmf.pk\")"
   ]
  },
  {
   "cell_type": "code",
   "execution_count": null,
   "metadata": {},
   "outputs": [],
   "source": []
  }
 ],
 "metadata": {
  "kernelspec": {
   "display_name": "Python 3",
   "language": "python",
   "name": "python3"
  },
  "language_info": {
   "codemirror_mode": {
    "name": "ipython",
    "version": 3
   },
   "file_extension": ".py",
   "mimetype": "text/x-python",
   "name": "python",
   "nbconvert_exporter": "python",
   "pygments_lexer": "ipython3",
   "version": "3.6.4"
  }
 },
 "nbformat": 4,
 "nbformat_minor": 2
}
