{
 "cells": [
  {
   "cell_type": "markdown",
   "metadata": {},
   "source": [
    "## Read kp and yao posts and comments"
   ]
  },
  {
   "cell_type": "code",
   "execution_count": 1,
   "metadata": {},
   "outputs": [],
   "source": [
    "from sklearn.externals import joblib\n",
    "(kp_sum_posts,kp_posts_time, kp_sum_comments, kp_comments_time, kp_comments_to_post_index) = joblib.load( \"result/kp_all.pkl\" )\n",
    "(yao_sum_posts,yao_posts_time, yao_sum_comments, yao_comments_time, yao_comments_to_post_index) = joblib.load(\"result/yao_all.pkl\")"
   ]
  },
  {
   "cell_type": "code",
   "execution_count": 2,
   "metadata": {},
   "outputs": [
    {
     "name": "stdout",
     "output_type": "stream",
     "text": [
      "# of kp posts: 1526\n",
      "# of kp posts time: 1526\n",
      "# of kp comments: 74705\n",
      "# of kp comments time: 74705\n",
      "# of kp comments to index: 74705\n",
      "\n",
      "# of yao posts: 977\n",
      "# of yao posts time: 977\n",
      "# of yao comments: 15497\n",
      "# of yao comments time: 15497\n",
      "# of yao comments to index: 15497\n"
     ]
    }
   ],
   "source": [
    "print('# of kp posts: ' + str(len(kp_sum_posts)))\n",
    "print('# of kp posts time: ' + str(len(kp_posts_time)))\n",
    "print('# of kp comments: ' + str(len(kp_sum_comments)))\n",
    "print('# of kp comments time: ' + str(len(kp_comments_time)))\n",
    "print('# of kp comments to index: ' + str(len(kp_comments_to_post_index))) ## comments 對應到哪篇貼文\n",
    "print()\n",
    "print('# of yao posts: ' + str(len(yao_sum_posts)))\n",
    "print('# of yao posts time: ' + str(len(yao_posts_time)))\n",
    "print('# of yao comments: ' + str(len(yao_sum_comments)))\n",
    "print('# of yao comments time: ' + str(len(yao_comments_time)))\n",
    "print('# of yao comments to index: ' + str(len(yao_comments_to_post_index)))   ## comments 對應到哪篇貼文"
   ]
  },
  {
   "cell_type": "markdown",
   "metadata": {},
   "source": [
    "## Read kp and yao tf-idf result"
   ]
  },
  {
   "cell_type": "code",
   "execution_count": 3,
   "metadata": {},
   "outputs": [],
   "source": [
    "(tf_kp_posts,tf_kp_posts_feature_names, kp_sum_posts_clean_seg, tf_kp_comments,tf_kp_comments_feature_names, kp_sum_comments_clean_seg) = joblib.load( \"result/tf_idf_kp_all.pkl\" )\n",
    "(tf_yao_posts,tf_yao_posts_feature_names, yao_sum_posts_clean_seg, tf_yao_comments,tf_yao_comments_feature_names, yao_sum_comments_clean_seg) = joblib.load( \"result/tf_idf_yao_all.pkl\" )\n"
   ]
  },
  {
   "cell_type": "code",
   "execution_count": 4,
   "metadata": {},
   "outputs": [],
   "source": [
    "# use for visualization\n",
    "# tf_kp_posts\n",
    "# tf_kp_posts_feature_names\n",
    "# tf_yao_posts\n",
    "# tf_yao_posts_feature_names\n",
    "# tf_kp_comments\n",
    "# tf_kp_comments_feature_names\n",
    "# tf_yao_comments\n",
    "# tf_yao_comments_feature_names\n"
   ]
  },
  {
   "cell_type": "markdown",
   "metadata": {},
   "source": [
    "## Read kp and yao LDA result"
   ]
  },
  {
   "cell_type": "code",
   "execution_count": 4,
   "metadata": {},
   "outputs": [],
   "source": [
    "(lda_kp_comments, comments_kp_topic_list) = joblib.load( \"result/lda_kp_all.pk\" )\n",
    "(lda_yao_comments,comments_yao_topic_list) = joblib.load( \"result/lda_yao_all.pk\" )"
   ]
  },
  {
   "cell_type": "code",
   "execution_count": 6,
   "metadata": {},
   "outputs": [],
   "source": [
    "# use for visualization\n",
    "#lda_kp_posts\n",
    "#lda_kp_comments\n",
    "#lda_yao_posts\n",
    "#lda_yao_comments\n",
    "\n",
    "\n",
    "#import pyLDAvis\n",
    "#import pyLDAvis.sklearn\n",
    "#pyLDAvis.enable_notebook()\n",
    "#pyLDAvis.sklearn.prepare(lda_kp_posts, tf_kp_posts, tf_kp_posts_feature_names)"
   ]
  },
  {
   "cell_type": "markdown",
   "metadata": {},
   "source": [
    "## print topic words"
   ]
  },
  {
   "cell_type": "code",
   "execution_count": 6,
   "metadata": {},
   "outputs": [],
   "source": [
    "def print_top_words(model, feature_names, n_top_words):\n",
    "    topic_word_dict = {}\n",
    "    for topic_idx, topic in enumerate(model.components_):\n",
    "        print(\"Topic #%d:\" % topic_idx)\n",
    "        print(\" \".join([feature_names[i]\n",
    "                        for i in topic.argsort()[:-n_top_words - 1:-1]]))\n",
    "        topic_word_dict[topic_idx] = [feature_names[i] for i in topic.argsort()[:-n_top_words - 1:-1]]\n",
    "        \n",
    "    print()"
   ]
  },
  {
   "cell_type": "markdown",
   "metadata": {},
   "source": [
    "### kp comments tpoic words"
   ]
  },
  {
   "cell_type": "code",
   "execution_count": 18,
   "metadata": {
    "scrolled": true
   },
   "outputs": [
    {
     "name": "stdout",
     "output_type": "stream",
     "text": [
      "Topic #0:\n",
      "考查 殺手 擾鄰 沒白 無不 樂隊 廚師 破風 長命 殺無赦 螞蟻 泰文 流量 上帝 迫不及待 許願 長安 好好玩 臂章 紅杉\n",
      "Topic #1:\n",
      "有點 再見 春聯 喜感 魏家 雲林人 好好笑 帥柯 爬山 董事 節儉 翻譯 拜年 找回來 大麻 內閣 小豬 六畜 柴油 長榮\n",
      "Topic #2:\n",
      "放假 柯天醫 燒香 預告 小刀 搶到 月球 馬金 花圃 馬皇 倒光 是二 換作 違和感 南北路 太子黨 耳聾 引力 高過 伉儷\n",
      "Topic #3:\n",
      "搬去 人渣 蕾蕾 口氣 館長 架子 放出來 不輕 強姦 像樣 管碧玲 仲丘 交保 千億 文明人 執行長 樂天 掠奪 妓女 回升\n",
      "Topic #4:\n",
      "仁醫 拓染 萬歲 那段 玉蘭 玉山 翡翠 黃水 遊記 阿勃勒 幾分鐘 造孽 米格魯 專管 藍星花 濁度 忘掉 多采多姿 大馬 野百合\n",
      "Topic #5:\n",
      "加油加油 阿伯 太棒 竹中 宇昌案 大連 艦隊 無敵 防疫 柯市長 畜牲 台語 皇帝 抓頭 分身 好萌 心坎 條理 鳴人 寫到\n",
      "Topic #6:\n",
      "老婆 耶和華 高捷 出頭天 私帳 升旗 哥吉拉 奶奶 中山區 淤泥 怪罪 少女 娶到 教化 沒買 慚愧 安安 待人 婦女票 文案\n",
      "Topic #7:\n",
      "會計師 日記 大明 頑張 透水 錄音檔 力口 截止 領帶 台詞 超前 貧寒 收費員 愛因斯坦 遠傳 胡為 無立 賭盤 辦事處 派對\n",
      "Topic #8:\n",
      "善念 心存 盡力而為 護理師 樣子 自拍 名醫 爛招 放閃 母校 加油 真金不怕火煉 雞婆 柯p 男友 座右銘 粉絲 人帥 揪團 班底\n",
      "Topic #9:\n",
      "災情 中華民國 高貴 蔣介石 通通 雜音 畢業生 討喜 收賄 簽書會 侵入 馬祖 人緣 千風 滋味 涵養 募集 沒權 竹中人 空襲\n",
      "Topic #10:\n",
      "厲害 柯老師 粽子 總營收 預購 報到 變態 次方 同學 得逞 家暴 代碼 柯語錄 校友 湯匙 書店 服裝 黃崇仁 與有榮焉 滾蛋\n",
      "Topic #11:\n",
      "親和力 自燃 柯桑 醫科 請到 試試看 消防局 透透 手工 宣傳照 考不上 蝦米 岡崎 走透透 去留 幽默感 大業 活過來 一好 粉紅色\n",
      "Topic #12:\n",
      "阿北 台湾 市长 大陆 我们 你们 很帥 一个 歡迎 桃園 大甲 中華隊 頭香 好酷 好美 紀政 汪潔民 醫術 花生 吃完\n",
      "Topic #13:\n",
      "台北市 市長 問題 交通 公車 捷運 機車 希望 政府 光芒 台北 鼓掌 擔當 應該 典範 柯p 上班 請問 安全 真的\n",
      "Topic #14:\n",
      "愛你 直播 喜歡 馬先生 好吃 請益 螺絲 治病 敬畏 終生 購票 開講 手勢 楷模 泥沼 開到 曝光率 牛肉麵節 祈願 名調\n",
      "Topic #15:\n",
      "社稷 祖蔭 少東 不武 攻武嚇 歸降 情人節 憂國 有夢雲 禱告 愛您 蒼生 白袍 脫韁 猛撞 領導 園丁 很重 兩顆 公會\n",
      "Topic #16:\n",
      "中秋 林義雄 江湖 白芯羽 喝水 改編 東方 笑笑 開展 天光 歲月 幾人 火炬 球衣 髒水 豪情 齊鳴 警哨 牛奶 謝長廷\n",
      "Topic #17:\n",
      "加油 柯p 市長 台灣 柯市長 支持 醫師 台北 真的 希望 柯文哲 一個 總統 市民 一定 政治 台北市 謝謝 辛苦 需要\n",
      "Topic #18:\n",
      "神豬 頭髮 監委 桌遊 專輯 新書 封面 捐出 海報 受益 逼死 傷者 羅淑 勤勞 反服貿 愛上 不開 歐巴 電子報 踏入\n",
      "Topic #19:\n",
      "聯考 暴風 排妹 傑克 周美青 告白 神棍 金馬 侯乃榕 陳以真 香爐 古錐 書名 哲理 暴風圈 上完 生而 第一句 醫黑 太潮\n",
      "\n"
     ]
    }
   ],
   "source": [
    "print_top_words(lda_kp_comments, tf_kp_comments_feature_names, n_top_words=20)"
   ]
  },
  {
   "cell_type": "markdown",
   "metadata": {},
   "source": [
    "### yao comments tpoic words"
   ]
  },
  {
   "cell_type": "code",
   "execution_count": 20,
   "metadata": {
    "scrolled": true
   },
   "outputs": [
    {
     "name": "stdout",
     "output_type": "stream",
     "text": [
      "Topic #0:\n",
      "一百萬 字號 身份證 為求 兩百萬 不愧 佩服 罰金 嗆馬 領得 再力 戴資穎 修養 大柱 帥呆了 八百萬票 日報 蘋果 撤銷 記載\n",
      "Topic #1:\n",
      "資進黨 諸葛 景美 山明水秀 啊啊 預購 未來性 一瓶 洗衣精 國寶 前任 有尬 額度 故障 夏夏 網購 負轉正 習進平 北骨 成龍\n",
      "Topic #2:\n",
      "有力 敬祝 機車 汽車 先禁 開車 週日 全家福 宿舍 大官 汪汪 無視 閤家 中韓 覺對 加强 狂電 過去式 真命天 瘦身\n",
      "Topic #3:\n",
      "休閒 直播 創作 森林 觀光 展場 綜合 樞紐 双北 主持 各類 偶像 學生 破產 策略 年輕人 億元 棒球場 展示 公路\n",
      "Topic #4:\n",
      "發電 生日快樂 消費 悠遊卡 媽祖 陸客 保佑 外觀 搓掉 德國 不屑 酸民 邊緣化 落人 潮t 零元 感情 天公 小時候 玄之又玄\n",
      "Topic #5:\n",
      "英派 真相 轉發 書桌 張炎憲 選不 過年 美女 賴先生 族人 星條旗 練習 吳總 素晴 鷹派 報導出來 順了 失憶 害蟲 原諒\n",
      "Topic #6:\n",
      "張嘴 謝謝 旺旺 拆除 可惜 補助 單身 好吃 異性戀 中國化 中正 蔣匪 無聊 房東 聖誕 紀念堂 勝文 圍牆 中文 狗屎\n",
      "Topic #7:\n",
      "藝人 輪到 歐基桑 白鯧魚 陳景峻 很臭 算盤 反擊 了有 太胖 二棒 觀光局 老同學 遇到兵 秀才 中柯隊 台姚 保夾 迷彩 自求多福\n",
      "Topic #8:\n",
      "選柯 缺電 農委會 一名 挖洞 想像力 跳電 結紮 這人 綠皮 大好 反智 搞鬼 反年 這下子 紅骨 藍血 死路一條 收容所 還好\n",
      "Topic #9:\n",
      "熱炒 新奇 玩意兒 冷飯 小題大作 政壇 退出 苛屁 甘願 太平洋 碌啊 谷底 油電雙漲 指出 民进党 姚有 藍委 核二 軍令狀 上天\n",
      "Topic #10:\n",
      "二位 台湾 唱片 台奴 牌子 上陣 撒錢 成龍 是什 雙雙 雙手 寫反 讚歎 核四廠 中国 省事 金牌 一筆 西富 褲子\n",
      "Topic #11:\n",
      "亂七八糟 天意 出包 出錢 北上 包車 退席 三天 嫉妒 三部 湯姆 有緣 主演 真多 沈甕 阿義 南部人 虎視耽耽 發神經 減法\n",
      "Topic #12:\n",
      "加分 選票 陪審制 上架 邪惡 臧慧妍 皇冠 迫不及待 不可以 拖光 跑攤 好臭 塞咀 特勒 超穩 烏雲 蔽日 老帶婆 大馬 挪用\n",
      "Topic #13:\n",
      "打死 塞爾提克 造勢 走路工 張老師 千杯 傑作 巴西 阿不 沒路用 無望 無彩工 菊姐 插花 銹蝕 漢族 積德 求求 投紅 爆冷\n",
      "Topic #14:\n",
      "民進黨 台灣 支持 姚文智 市長 台北 加油 高票 委員 立委 台北市 柯文哲 當選 一定 真的 國民黨 加油加油 柯p 參選 台北市長\n",
      "Topic #15:\n",
      "全力以赴 喜悅 簡余晏 草案 佳節 好人 花媽 中秋 沒事 身分證 龍鳳谷 柯一 壞人 大戰 人情 總召 力橋 盡情 獻唱 退役\n",
      "Topic #16:\n",
      "加油 委員 市長 姚文智 當選 立委 支持 一定 凍蒜 台北 翻轉 快樂 台北市長 辛苦 新年 文智 堅持 台灣 祝福 台北市\n",
      "Topic #17:\n",
      "徐海耀 恭賀 地址 好事 揪感心 什么 想去 穩贏 猴年 有助於 聾人 手語 喬遷 柯網 一月 許淑淨 景深 衝動 盧秀燕 減塑\n",
      "Topic #18:\n",
      "丁丁 助理 千人 超帥 得利 動漫 公子 每日 這啥 關關 嘉義 揹學貸 麥亂 頭頂 江山 相命 小子 卡有眠 手握 名譽\n",
      "Topic #19:\n",
      "政客 西裝 老派 外套 支票 鬆軟 妖魔鬼怪 穿著 買不到 空頭 藍軍 脫下 選舉 現身 潘懷宗 新意 下方 脫掉 康復 典型\n",
      "\n"
     ]
    }
   ],
   "source": [
    "print_top_words(lda_yao_comments, tf_yao_comments_feature_names, n_top_words=20)"
   ]
  },
  {
   "cell_type": "markdown",
   "metadata": {},
   "source": [
    "# Show Result - KP"
   ]
  },
  {
   "cell_type": "code",
   "execution_count": 11,
   "metadata": {},
   "outputs": [
    {
     "name": "stdout",
     "output_type": "stream",
     "text": [
      "kp posts: 0\n",
      "還在當醫師的時候，我寫了第一本書「白色的力量」，講了很多對當時社會的批判，以及從醫多年累積的生死觀，算是我行醫二十幾年下來的回顧之作。這本書，等等凌晨0點在全台各大電子書店就會開始預購，除了宣揚理念，順便賺點版稅貼補家用，大家就多多捧場一下。第二、第三本則是跟選舉有關，一本在選前談從政的心境，一本是選後回顧團隊的SOP。---「光榮城市」新書預購資訊（22日0時正式預購）http://pcse.pw/7WLYS「光榮城市」簽書會活動資訊http://pcse.pw/79QBY新書首發讀者見面會時間：6/30（六）PM 6:00地點：台北捷運中山站第二廣場（R7光盒旁）。現在，我每天七點半準時上工，不知不覺也進入第四年任期，反省改進是我每日的功課，我每天都會想很多事情如果重來一遍，怎麼做會比較好，想著想著，乾脆就記錄下來，除了市政上的理念，當然還有很多當市長之後學到的寶貴經驗。不包括醫學書籍的話，「光榮城市」是我寫的第四本書。不只是寫，我還自己做投影片解說，講了5個小時，出版社乾脆直接錄下來燒錄成兩片DVD，幕僚都笑說大家睡不著的時候可以拿來看。\n",
      "\n",
      "kp post time: 2018-06-21T12:39:10+0000\n",
      "===================================================\n",
      "kp comments: 1\n",
      "恭喜你變成大作家，不讓你專美於前，我也要開始寫作，等你出完這本書，明年換我出，呵呵呵，咱們倆接力賺稿費，支付不足的選舉經費和我們官司的錢。\n",
      "\n",
      "kp comment time: 2018-06-21T12:53:45+0000\n",
      "\n",
      "comment to post index: 0\n",
      "\n",
      "kp comment topic: 17\n",
      "~~~~~~~~~~~~~~~~~~~~~~~~~~~~~~~~~~~~~~~~~~\n",
      "kp comments: 2\n",
      "柯P您好，如果之後您有製作影片的需求，但是缺少人力和經費的話，到選舉結束前我都願意免費協助您製作各種動畫、剪輯和簡單的文案。本人在業界雖然不是什麼大導演，但也有8年的相關經驗，雖然沒有錢，但我願意出這份心力來贊助您。#台中柯粉#網路義勇軍。\n",
      "\n",
      "kp comment time: 2018-06-21T13:09:07+0000\n",
      "\n",
      "comment to post index: 0\n",
      "\n",
      "kp comment topic: 17\n",
      "~~~~~~~~~~~~~~~~~~~~~~~~~~~~~~~~~~~~~~~~~~\n",
      "kp comments: 3\n",
      "把花國家的錢當做在花自己的錢那樣小心翼翼，這是市長主政對台灣政治風氣最大的改變之一。【我在花市政府的錢當做在花自己的錢，不是說國家的錢就不是錢】【大家都沒有把國家的錢當錢，每個都在負債，我非常討厭這一點】柯市長無論對於花錢和還債，都是慎而再慎，為什麼啊。因為這是國家的錢啊。\n",
      "\n",
      "kp comment time: 2018-06-21T12:42:26+0000\n",
      "\n",
      "comment to post index: 0\n",
      "\n",
      "kp comment topic: 17\n",
      "~~~~~~~~~~~~~~~~~~~~~~~~~~~~~~~~~~~~~~~~~~\n",
      "kp comments: 4\n",
      "看到這新書預告，聽到音樂就有點想哭。我是住法國的柯粉，從市長選舉時就每天看當天youtube 柯p的影片，所有演講都聽到滾瓜爛熟，沒有一天中斷。去年暑假回台看世大運，希望八月底誠品那場能搶到簽名握手的機會，更希望11月底可以想辦法拋夫棄子回台投票。\n",
      "\n",
      "kp comment time: 2018-06-21T13:37:16+0000\n",
      "\n",
      "comment to post index: 0\n",
      "\n",
      "kp comment topic: 17\n",
      "~~~~~~~~~~~~~~~~~~~~~~~~~~~~~~~~~~~~~~~~~~\n"
     ]
    }
   ],
   "source": [
    "idx = 0\n",
    "print('kp posts: ' + str(idx))\n",
    "print(kp_sum_posts[idx])\n",
    "print()\n",
    "print('kp post time: '+ kp_posts_time[idx])\n",
    "print('===================================================')\n",
    "for comments_idx in range(1,5):\n",
    "    print('kp comments: ' + str(comments_idx))\n",
    "    print(kp_sum_comments[comments_idx])\n",
    "    print()\n",
    "    print('kp comment time: ' + kp_comments_time[comments_idx])\n",
    "    print()\n",
    "    print('comment to post index: ' + str(kp_comments_to_post_index[comments_idx]))  \n",
    "    print()\n",
    "    print('kp comment topic: '+ str(comments_kp_topic_list[comments_idx]))\n",
    "    print('~~~~~~~~~~~~~~~~~~~~~~~~~~~~~~~~~~~~~~~~~~')"
   ]
  },
  {
   "cell_type": "code",
   "execution_count": null,
   "metadata": {},
   "outputs": [],
   "source": []
  }
 ],
 "metadata": {
  "kernelspec": {
   "display_name": "Python 3",
   "language": "python",
   "name": "python3"
  },
  "language_info": {
   "codemirror_mode": {
    "name": "ipython",
    "version": 3
   },
   "file_extension": ".py",
   "mimetype": "text/x-python",
   "name": "python",
   "nbconvert_exporter": "python",
   "pygments_lexer": "ipython3",
   "version": "3.6.4"
  }
 },
 "nbformat": 4,
 "nbformat_minor": 2
}
